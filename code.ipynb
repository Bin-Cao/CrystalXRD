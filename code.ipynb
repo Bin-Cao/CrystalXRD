{
 "cells": [
  {
   "cell_type": "markdown",
   "id": "e0c97397",
   "metadata": {},
   "source": [
    "# template code for operating db database"
   ]
  },
  {
   "cell_type": "markdown",
   "id": "9d0f2014",
   "metadata": {},
   "source": [
    "## exhibit the database"
   ]
  },
  {
   "cell_type": "markdown",
   "id": "3ba852e0",
   "metadata": {},
   "source": [
    "pip install CryDBkit"
   ]
  },
  {
   "cell_type": "markdown",
   "id": "e7238fd8",
   "metadata": {},
   "source": [
    "from CryDBkit import website\n",
    "\n",
    "website.show('CryDB.db')"
   ]
  },
  {
   "cell_type": "markdown",
   "id": "47a1515d",
   "metadata": {},
   "source": [
    "pip show CryDBkit"
   ]
  },
  {
   "cell_type": "markdown",
   "id": "4668b44b",
   "metadata": {},
   "source": [
    "## acquire the structures by `Crylearn`"
   ]
  },
  {
   "cell_type": "markdown",
   "id": "3a0b0f8f",
   "metadata": {},
   "source": [
    "pip install Crylearn"
   ]
  },
  {
   "cell_type": "code",
   "execution_count": 21,
   "id": "c8eb0aad",
   "metadata": {},
   "outputs": [],
   "source": [
    "from Crylearn import cry2graph\n",
    "from ase.db import connect\n",
    "\n",
    "database = connect('demo.db')\n",
    "entry_id = 3 # acquire the third structure\n",
    "\n",
    "node_embedding, _, dis_matrix, XRDpattern = cry2graph.parser(database, entry_id).get(model='Simulation')\n"
   ]
  },
  {
   "cell_type": "code",
   "execution_count": 6,
   "id": "37b44cfd",
   "metadata": {},
   "outputs": [
    {
     "data": {
      "image/png": "[encoded data removed]",
      "text/plain": [
       "<Figure size 1000x600 with 1 Axes>"
      ]
     },
     "metadata": {},
     "output_type": "display_data"
    }
   ],
   "source": [
    "import matplotlib.pyplot as plt\n",
    "\n",
    "\n",
    "# Plotting XRD pattern\n",
    "plt.figure(figsize=(10, 6))\n",
    "plt.plot(XRDpattern, marker='o', linestyle='-', color='b', label='Global Info')\n",
    "plt.xlabel('2theta')\n",
    "plt.ylabel('intensity')\n",
    "\n",
    "plt.legend()\n",
    "plt.grid(True)\n",
    "plt.show()"
   ]
  },
  {
   "cell_type": "code",
   "execution_count": 7,
   "id": "aa5235df",
   "metadata": {},
   "outputs": [
    {
     "name": "stdout",
     "output_type": "stream",
     "text": [
      "Name: Crylearn\r\n",
      "Version: 0.1.0\r\n",
      "Summary: toolkit for embedding crystal to graphy\r\n",
      "Home-page: \r\n",
      "Author: CaoBin\r\n",
      "Author-email: bcao686@connect.hkust-gz.edu.cn\r\n",
      "License: MIT License\r\n",
      "Location: /Users/jacob/miniconda3/lib/python3.9/site-packages\r\n",
      "Requires: ase, numpy, pandas, scipy, spglib\r\n",
      "Required-by: \r\n"
     ]
    }
   ],
   "source": [
    "! pip show Crylearn"
   ]
  },
  {
   "cell_type": "markdown",
   "id": "6f471cde",
   "metadata": {},
   "source": [
    "## node_embedding \n",
    "+ `node_embedding` refers to the N atoms that are contained within a lattice cell. \n",
    "+ `dis_matrix` represents the pairwise distances between each pair of these atoms.\n"
   ]
  },
  {
   "cell_type": "markdown",
   "id": "efef2c41",
   "metadata": {},
   "source": [
    "### only two atoms are contained"
   ]
  },
  {
   "cell_type": "code",
   "execution_count": 8,
   "id": "6494b3b2",
   "metadata": {},
   "outputs": [
    {
     "name": "stdout",
     "output_type": "stream",
     "text": [
      "(2, 106)\n"
     ]
    },
    {
     "data": {
      "text/plain": [
       "array([[  0.        ,   0.        ,   0.        ,   0.        ,\n",
       "          1.        ,   0.        ,   0.        ,   0.        ,\n",
       "          0.        ,   0.        ,   0.        ,   0.        ,\n",
       "          0.        ,   0.        ,   0.        ,   0.        ,\n",
       "          0.        ,   0.        ,   0.        ,   0.        ,\n",
       "          0.        ,   0.        ,   0.        ,   0.        ,\n",
       "          1.        ,   0.        ,   0.        ,   0.        ,\n",
       "          1.        ,   0.        ,   0.        ,   0.        ,\n",
       "          0.        ,   0.        ,   0.        ,   0.        ,\n",
       "          0.        ,   0.        ,   0.        ,   0.        ,\n",
       "          0.        ,   1.        ,   0.        ,   0.        ,\n",
       "          0.        ,   0.        ,   0.        ,   0.        ,\n",
       "          0.        ,   1.        ,   0.        ,   0.        ,\n",
       "          0.        ,   0.        ,   0.        ,   0.        ,\n",
       "          0.        ,   0.        ,   0.        ,   0.        ,\n",
       "          0.        ,   1.        ,   0.        ,   0.        ,\n",
       "          0.        ,   0.        ,   0.        ,   0.        ,\n",
       "          0.        ,   0.        ,   0.        ,   0.        ,\n",
       "          1.        ,   0.        ,   0.        ,   0.        ,\n",
       "          0.        ,   0.        ,   0.        ,   0.        ,\n",
       "          1.        ,   0.        ,   0.        ,   0.        ,\n",
       "          0.        ,   1.        ,   0.        ,   0.        ,\n",
       "          0.        ,   0.        ,   0.        ,   0.        ,\n",
       "          0.        ,   0.        ,   0.        ,   3.534984  ,\n",
       "          3.53498355,   3.53498502,  89.99998912,  89.99999586,\n",
       "         90.00002197, 229.        ,   2.        ,   1.        ,\n",
       "         44.1735626 , 356.98      ],\n",
       "       [  0.        ,   0.        ,   0.        ,   0.        ,\n",
       "          1.        ,   0.        ,   0.        ,   0.        ,\n",
       "          0.        ,   0.        ,   0.        ,   0.        ,\n",
       "          0.        ,   0.        ,   0.        ,   0.        ,\n",
       "          0.        ,   0.        ,   0.        ,   0.        ,\n",
       "          0.        ,   0.        ,   0.        ,   0.        ,\n",
       "          1.        ,   0.        ,   0.        ,   0.        ,\n",
       "          1.        ,   0.        ,   0.        ,   0.        ,\n",
       "          0.        ,   0.        ,   0.        ,   0.        ,\n",
       "          0.        ,   0.        ,   0.        ,   0.        ,\n",
       "          0.        ,   1.        ,   0.        ,   0.        ,\n",
       "          0.        ,   0.        ,   0.        ,   0.        ,\n",
       "          0.        ,   1.        ,   0.        ,   0.        ,\n",
       "          0.        ,   0.        ,   0.        ,   0.        ,\n",
       "          0.        ,   0.        ,   0.        ,   0.        ,\n",
       "          0.        ,   1.        ,   0.        ,   0.        ,\n",
       "          0.        ,   0.        ,   0.        ,   0.        ,\n",
       "          0.        ,   0.        ,   0.        ,   0.        ,\n",
       "          1.        ,   0.        ,   0.        ,   0.        ,\n",
       "          0.        ,   0.        ,   0.        ,   0.        ,\n",
       "          1.        ,   0.        ,   0.        ,   0.        ,\n",
       "          0.        ,   1.        ,   0.        ,   0.        ,\n",
       "          0.        ,   0.        ,   0.        ,   0.        ,\n",
       "          0.5       ,   0.5       ,   0.5       ,   3.534984  ,\n",
       "          3.53498355,   3.53498502,  89.99998912,  89.99999586,\n",
       "         90.00002197, 229.        ,   2.        ,   1.        ,\n",
       "         44.1735626 , 356.98      ]])"
      ]
     },
     "execution_count": 8,
     "metadata": {},
     "output_type": "execute_result"
    }
   ],
   "source": [
    "print(node_embedding.shape)\n",
    "node_embedding"
   ]
  },
  {
   "cell_type": "code",
   "execution_count": 10,
   "id": "2228fcd9",
   "metadata": {},
   "outputs": [
    {
     "name": "stdout",
     "output_type": "stream",
     "text": [
      "(2, 2)\n"
     ]
    },
    {
     "data": {
      "text/plain": [
       "array([[0.        , 3.06138598],\n",
       "       [3.06138598, 0.        ]])"
      ]
     },
     "execution_count": 10,
     "metadata": {},
     "output_type": "execute_result"
    }
   ],
   "source": [
    "print(dis_matrix.shape)\n",
    "dis_matrix"
   ]
  },
  {
   "cell_type": "markdown",
   "id": "1b47f18f",
   "metadata": {},
   "source": [
    "## acquire the structures directly"
   ]
  },
  {
   "cell_type": "code",
   "execution_count": 12,
   "id": "5b3a77a3",
   "metadata": {},
   "outputs": [],
   "source": [
    "database = connect('demo.db')\n",
    "entry_id = 3 # acquire the third structure\n",
    "\n",
    "atom = database.get_atoms(id=entry_id) # acquire atom"
   ]
  },
  {
   "cell_type": "code",
   "execution_count": 14,
   "id": "9bc9e526",
   "metadata": {},
   "outputs": [],
   "source": [
    "# define this function to convert cell\n",
    "\n",
    "from ase import Atoms\n",
    "import spglib\n",
    "\n",
    "def prim2conv(prim_atom):\n",
    "    \"\"\"\n",
    "    Convert a primitive cell to a conventional cell.\n",
    "\n",
    "    Parameters:\n",
    "        prim_atom (Atoms): The primitive atom defined in the atomic simulation unit (asu).\n",
    "\n",
    "    Returns:\n",
    "        tuple: Lattice constants, conventional lattice cell matrix in Cartesian coordinates, Atoms attribute\n",
    "    \"\"\"\n",
    "    lattice = prim_atom.get_cell()\n",
    "    positions = prim_atom.get_scaled_positions()\n",
    "    numbers = prim_atom.get_atomic_numbers()\n",
    "    cell = (lattice, positions, numbers)\n",
    "    conventional_cell = spglib.standardize_cell(cell, to_primitive=False, no_idealize=True)\n",
    "    conv_lattice, conv_positions, conv_numbers = conventional_cell\n",
    "    conventional_atoms = Atoms(cell=conv_lattice, scaled_positions=conv_positions, numbers=conv_numbers, pbc=True)\n",
    "    lc = conventional_atoms.cell.cellpar()\n",
    "    lmtx = conventional_atoms.get_cell()[:]\n",
    "    return lc, lmtx, conventional_atoms"
   ]
  },
  {
   "cell_type": "code",
   "execution_count": 20,
   "id": "6da5df12",
   "metadata": {},
   "outputs": [
    {
     "name": "stdout",
     "output_type": "stream",
     "text": [
      "the lattice constant :  [ 3.534984    3.53498355  3.53498502 89.99998912 89.99999586 90.00002197]\n",
      "the chemical symbols : ['Hf', 'Hf']\n",
      "the atom fractional locations : [[0.  0.  0. ]\n",
      " [0.5 0.5 0.5]]\n",
      "the energy of this crysal is : 0.2121797899999933\n"
     ]
    }
   ],
   "source": [
    "G_latt_consts,_, c_atom = prim2conv(atom)\n",
    "\n",
    "print('the lattice constant : ',G_latt_consts)\n",
    "\n",
    "N_symbols = c_atom.get_chemical_symbols()\n",
    "\n",
    "print('the chemical symbols :', N_symbols)\n",
    "\n",
    "positions = c_atom.get_scaled_positions()\n",
    "print('the atom fractional locations :', positions)\n",
    "\n",
    "print('the energy of this crysal is :', database.get(id=entry_id)['formation_energy'])"
   ]
  },
  {
   "cell_type": "code",
   "execution_count": null,
   "id": "c6490984",
   "metadata": {},
   "outputs": [],
   "source": []
  }
 ],
 "metadata": {
  "kernelspec": {
   "display_name": "Python 3 (ipykernel)",
   "language": "python",
   "name": "python3"
  },
  "language_info": {
   "codemirror_mode": {
    "name": "ipython",
    "version": 3
   },
   "file_extension": ".py",
   "mimetype": "text/x-python",
   "name": "python",
   "nbconvert_exporter": "python",
   "pygments_lexer": "ipython3",
   "version": "3.9.12"
  }
 },
 "nbformat": 4,
 "nbformat_minor": 5
}
