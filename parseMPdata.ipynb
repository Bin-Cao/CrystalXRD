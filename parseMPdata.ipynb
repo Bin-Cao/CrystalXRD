{
 "cells": [
  {
   "cell_type": "code",
   "execution_count": null,
   "id": "0d94f9d8-1263-406a-9da3-bff114e46c80",
   "metadata": {},
   "outputs": [],
   "source": [
    "# function\n",
    "# convert MP cryst. to graph embedding \n",
    "\n",
    "import json\n",
    "from Crylearn import cry2graph\n",
    "from ase.db import connect\n",
    "from concurrent.futures import ThreadPoolExecutor\n",
    "from tqdm import tqdm\n",
    "\n",
    "\n",
    "# Function to process each entry\n",
    "def process_entry(_id, db_path):\n",
    "    try:\n",
    "        database = connect(db_path)\n",
    "        label = database.get(id=_id)['Label']\n",
    "    \n",
    "        cry_graph = cry2graph.parser(database, _id)\n",
    "        N, _, adj_M, _ = cry_graph.get()\n",
    "        return {\n",
    "            'label': _id,\n",
    "            'N': N.tolist(),  # Convert numpy array to list\n",
    "            'adj_M': adj_M.tolist()  # Convert adjacency matrix to list\n",
    "        }\n",
    "    except Exception as e:\n",
    "        return None\n",
    "\n",
    "\n",
    "if __name__ == '__main__':\n",
    "    # the demo.db has no attribute of 'Label'\n",
    "    db_path = 'xxxxx.db'\n",
    "    database = connect(db_path)\n",
    "    total_entries = database.count()\n",
    "    results = []\n",
    "    with ThreadPoolExecutor() as executor:\n",
    "        # Wrap the range in tqdm for the progress bar\n",
    "        future_to_id = {executor.submit(process_entry, _id, db_path): _id for _id in range(1, total_entries + 1)}\n",
    "        for future in tqdm(future_to_id, total=total_entries):\n",
    "            result = future.result()\n",
    "            if result:\n",
    "                results.append(result)\n",
    "\n",
    "    # Save the results to a JSON file\n",
    "    with open('results.json', 'w') as f:\n",
    "        json.dump(results, f, indent=3)\n"
   ]
  },
  {
   "cell_type": "code",
   "execution_count": 1,
   "id": "5e77c0a6-d560-4c08-8165-3b4e4ade4258",
   "metadata": {},
   "outputs": [
    {
     "name": "stdout",
     "output_type": "stream",
     "text": [
      "10 \n",
      "\n",
      "the lable matches MP id 1 \n",
      "\n",
      "the node embedding [[0.0, 1.0, 0.0, 0.0, 0.0, 0.0, 0.0, 0.0, 0.0, 0.0, 0.0, 0.0, 0.0, 0.0, 0.0, 0.0, 0.0, 0.0, 0.0, 0.0, 0.0, 0.0, 0.0, 0.0, 1.0, 0.0, 1.0, 0.0, 0.0, 0.0, 0.0, 0.0, 0.0, 0.0, 0.0, 0.0, 0.0, 0.0, 0.0, 0.0, 0.0, 0.0, 0.0, 0.0, 0.0, 1.0, 1.0, 0.0, 0.0, 0.0, 0.0, 0.0, 0.0, 0.0, 0.0, 0.0, 0.0, 0.0, 1.0, 0.0, 0.0, 0.0, 0.0, 0.0, 0.0, 0.0, 0.0, 0.0, 0.0, 0.0, 0.0, 0.0, 0.0, 1.0, 0.0, 0.0, 0.0, 0.0, 1.0, 0.0, 0.0, 0.0, 0.0, 0.0, 0.0, 0.0, 0.0, 0.0, 0.0, 0.0, 0.0, 1.0, 0.0, 0.0, 0.0, 6.256929553451246, 6.256931047415971, 6.256929778096491, 89.99999780810445, 90.00001002083376, 90.0000017732758, 229.0, 2.0, 1.0, 244.95365001079577, 265.81090392], [0.0, 1.0, 0.0, 0.0, 0.0, 0.0, 0.0, 0.0, 0.0, 0.0, 0.0, 0.0, 0.0, 0.0, 0.0, 0.0, 0.0, 0.0, 0.0, 0.0, 0.0, 0.0, 0.0, 0.0, 1.0, 0.0, 1.0, 0.0, 0.0, 0.0, 0.0, 0.0, 0.0, 0.0, 0.0, 0.0, 0.0, 0.0, 0.0, 0.0, 0.0, 0.0, 0.0, 0.0, 0.0, 1.0, 1.0, 0.0, 0.0, 0.0, 0.0, 0.0, 0.0, 0.0, 0.0, 0.0, 0.0, 0.0, 1.0, 0.0, 0.0, 0.0, 0.0, 0.0, 0.0, 0.0, 0.0, 0.0, 0.0, 0.0, 0.0, 0.0, 0.0, 1.0, 0.0, 0.0, 0.0, 0.0, 1.0, 0.0, 0.0, 0.0, 0.0, 0.0, 0.0, 0.0, 0.0, 0.0, 0.0, 0.0, 0.0, 1.0, 0.5, 0.5, 0.49999999999999983, 6.256929553451246, 6.256931047415971, 6.256929778096491, 89.99999780810445, 90.00001002083376, 90.0000017732758, 229.0, 2.0, 1.0, 244.95365001079577, 265.81090392]] \n",
      "\n",
      "the adj matrix [[0.0]]\n"
     ]
    }
   ],
   "source": [
    "# function \n",
    "# parse graph data\n",
    "\n",
    "import json\n",
    "\n",
    "\n",
    "with open('results.json', 'r', encoding='utf-8') as file:\n",
    "    data = json.load(file)\n",
    "\n",
    "total_crystal = len(data)\n",
    "print(total_crystal,'\\n')\n",
    "\n",
    "# each crystal has three attributes\n",
    "print('the lable matches MP id', data[0]['label'],'\\n')\n",
    "print('the node embedding', data[0]['N'],'\\n')\n",
    "print('the adj matrix', data[1]['adj_M'])"
   ]
  },
  {
   "cell_type": "code",
   "execution_count": null,
   "id": "3a997cdc-5c9d-4fe7-945d-aac5d9c54a2c",
   "metadata": {},
   "outputs": [],
   "source": []
  }
 ],
 "metadata": {
  "kernelspec": {
   "display_name": "Python 3.11",
   "language": "python",
   "name": "python311"
  },
  "language_info": {
   "codemirror_mode": {
    "name": "ipython",
    "version": 3
   },
   "file_extension": ".py",
   "mimetype": "text/x-python",
   "name": "python",
   "nbconvert_exporter": "python",
   "pygments_lexer": "ipython3",
   "version": "3.9.19"
  }
 },
 "nbformat": 4,
 "nbformat_minor": 5
}
